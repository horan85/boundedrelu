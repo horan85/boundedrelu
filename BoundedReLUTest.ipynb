{
  "nbformat": 4,
  "nbformat_minor": 0,
  "metadata": {
    "colab": {
      "name": "BoundedReLUTest.ipynb",
      "version": "0.3.2",
      "views": {},
      "default_view": {},
      "provenance": [
        {
          "file_id": "1CxxR-tPBFgx3HJcBwMu2J1l2hR_BmHrn",
          "timestamp": 1524737564665
        }
      ],
      "collapsed_sections": []
    },
    "kernelspec": {
      "name": "python2",
      "display_name": "Python 2"
    },
    "accelerator": "GPU"
  },
  "cells": [
    {
      "metadata": {
        "id": "qPUdFAPGvbQt",
        "colab_type": "code",
        "colab": {
          "autoexec": {
            "startup": false,
            "wait_interval": 0
          }
        }
      },
      "cell_type": "code",
      "source": [
        "import numpy as np\n",
        "import random\n",
        "import tensorflow as tf\n",
        "from tensorflow.examples.tutorials.mnist import input_data "
      ],
      "execution_count": 0,
      "outputs": []
    },
    {
      "metadata": {
        "id": "OKsYA7BgvLFg",
        "colab_type": "code",
        "colab": {
          "autoexec": {
            "startup": false,
            "wait_interval": 0
          },
          "base_uri": "https://localhost:8080/",
          "height": 530
        },
        "collapsed": true,
        "outputId": "121f0bf8-30ee-4f81-d796-1811c0733511",
        "executionInfo": {
          "status": "ok",
          "timestamp": 1527848687227,
          "user_tz": -120,
          "elapsed": 1386,
          "user": {
            "displayName": "András Horváth",
            "photoUrl": "https://lh3.googleusercontent.com/a/default-user=s128",
            "userId": "108531624545996717379"
          }
        }
      },
      "cell_type": "code",
      "source": [
        "#read data and display data\n",
        "mnist = input_data.read_data_sets(\"MNIST_data/\", one_hot=True) # we will use one hot encoding, every outputclass is a separate dimension"
      ],
      "execution_count": 2,
      "outputs": [
        {
          "output_type": "stream",
          "text": [
            "WARNING:tensorflow:From <ipython-input-2-20205eb936e5>:1: read_data_sets (from tensorflow.contrib.learn.python.learn.datasets.mnist) is deprecated and will be removed in a future version.\n",
            "Instructions for updating:\n",
            "Please use alternatives such as official/mnist/dataset.py from tensorflow/models.\n",
            "WARNING:tensorflow:From /usr/local/lib/python2.7/dist-packages/tensorflow/contrib/learn/python/learn/datasets/mnist.py:260: maybe_download (from tensorflow.contrib.learn.python.learn.datasets.base) is deprecated and will be removed in a future version.\n",
            "Instructions for updating:\n",
            "Please write your own downloading logic.\n",
            "WARNING:tensorflow:From /usr/local/lib/python2.7/dist-packages/tensorflow/contrib/learn/python/learn/datasets/base.py:252: wrapped_fn (from tensorflow.contrib.learn.python.learn.datasets.base) is deprecated and will be removed in a future version.\n",
            "Instructions for updating:\n",
            "Please use urllib or similar directly.\n",
            "Successfully downloaded train-images-idx3-ubyte.gz 9912422 bytes.\n",
            "WARNING:tensorflow:From /usr/local/lib/python2.7/dist-packages/tensorflow/contrib/learn/python/learn/datasets/mnist.py:262: extract_images (from tensorflow.contrib.learn.python.learn.datasets.mnist) is deprecated and will be removed in a future version.\n",
            "Instructions for updating:\n",
            "Please use tf.data to implement this functionality.\n",
            "Extracting MNIST_data/train-images-idx3-ubyte.gz\n",
            "Successfully downloaded train-labels-idx1-ubyte.gz 28881 bytes.\n",
            "WARNING:tensorflow:From /usr/local/lib/python2.7/dist-packages/tensorflow/contrib/learn/python/learn/datasets/mnist.py:267: extract_labels (from tensorflow.contrib.learn.python.learn.datasets.mnist) is deprecated and will be removed in a future version.\n",
            "Instructions for updating:\n",
            "Please use tf.data to implement this functionality.\n",
            "Extracting MNIST_data/train-labels-idx1-ubyte.gz\n",
            "WARNING:tensorflow:From /usr/local/lib/python2.7/dist-packages/tensorflow/contrib/learn/python/learn/datasets/mnist.py:110: dense_to_one_hot (from tensorflow.contrib.learn.python.learn.datasets.mnist) is deprecated and will be removed in a future version.\n",
            "Instructions for updating:\n",
            "Please use tf.one_hot on tensors.\n",
            "Successfully downloaded t10k-images-idx3-ubyte.gz 1648877 bytes.\n",
            "Extracting MNIST_data/t10k-images-idx3-ubyte.gz\n",
            "Successfully downloaded t10k-labels-idx1-ubyte.gz 4542 bytes.\n",
            "Extracting MNIST_data/t10k-labels-idx1-ubyte.gz\n",
            "WARNING:tensorflow:From /usr/local/lib/python2.7/dist-packages/tensorflow/contrib/learn/python/learn/datasets/mnist.py:290: __init__ (from tensorflow.contrib.learn.python.learn.datasets.mnist) is deprecated and will be removed in a future version.\n",
            "Instructions for updating:\n",
            "Please use alternatives such as official/mnist/dataset.py from tensorflow/models.\n"
          ],
          "name": "stdout"
        }
      ]
    },
    {
      "metadata": {
        "id": "nAo94UKvvN0h",
        "colab_type": "code",
        "colab": {
          "autoexec": {
            "startup": false,
            "wait_interval": 0
          },
          "base_uri": "https://localhost:8080/",
          "height": 101
        },
        "outputId": "562e5fc9-aa1d-4d54-b6e1-6847fca66c8c",
        "executionInfo": {
          "status": "ok",
          "timestamp": 1524738254509,
          "user_tz": -120,
          "elapsed": 636,
          "user": {
            "displayName": "András Horváth",
            "photoUrl": "https://lh3.googleusercontent.com/a/default-user=s128",
            "userId": "108531624545996717379"
          }
        }
      },
      "cell_type": "code",
      "source": [
        "print(mnist.train.images.shape)\n",
        "print(mnist.train.labels.shape) # we have train images and train labels\n",
        "print(mnist.test.images.shape)\n",
        "print(mnist.test.labels.shape) # ans separate test iamges and labels for evaluation\n",
        "#print(mnist.train.images[0,:])\n",
        "mnist.train.labels[0]"
      ],
      "execution_count": 3,
      "outputs": [
        {
          "output_type": "stream",
          "text": [
            "(55000, 784)\n",
            "(55000, 10)\n",
            "(10000, 784)\n",
            "(10000, 10)\n"
          ],
          "name": "stdout"
        },
        {
          "output_type": "execute_result",
          "data": {
            "text/plain": [
              "array([0., 0., 0., 0., 0., 0., 0., 1., 0., 0.])"
            ]
          },
          "metadata": {
            "tags": []
          },
          "execution_count": 3
        }
      ]
    },
    {
      "metadata": {
        "id": "lEjPk8jkvPjb",
        "colab_type": "code",
        "colab": {
          "autoexec": {
            "startup": false,
            "wait_interval": 0
          },
          "base_uri": "https://localhost:8080/",
          "height": 678
        },
        "outputId": "14631aa2-2ff3-4b86-cd73-654901815438",
        "executionInfo": {
          "status": "ok",
          "timestamp": 1524738256263,
          "user_tz": -120,
          "elapsed": 559,
          "user": {
            "displayName": "András Horváth",
            "photoUrl": "https://lh3.googleusercontent.com/a/default-user=s128",
            "userId": "108531624545996717379"
          }
        }
      },
      "cell_type": "code",
      "source": [
        "#display an image just to get a feel what we are working on\n",
        "import matplotlib.pyplot as plt\n",
        "img= np.reshape(mnist.train.images[1,:],[28,28])\n",
        "\n",
        "#notebook\n",
        "fig,ax =plt.subplots()\n",
        "ax.imshow(img,cmap=\"Greys\")\n",
        "display(fig)\n",
        "\n",
        "#python script\n",
        "plt.imshow(img,cmap=\"Greys\")\n",
        "plt.show()"
      ],
      "execution_count": 4,
      "outputs": [
        {
          "output_type": "display_data",
          "data": {
            "image/png": "[encoded data removed]",
            "text/plain": [
              "<matplotlib.figure.Figure at 0x7fde82bfbf50>"
            ]
          },
          "metadata": {
            "tags": []
          }
        },
        {
          "output_type": "display_data",
          "data": {
            "image/png": "[encoded data removed]",
            "text/plain": [
              "<matplotlib.figure.Figure at 0x7fde82bfbf50>"
            ]
          },
          "metadata": {
            "tags": []
          }
        }
      ]
    },
    {
      "metadata": {
        "id": "Cstt1SSRvRgf",
        "colab_type": "code",
        "colab": {
          "autoexec": {
            "startup": false,
            "wait_interval": 0
          }
        }
      },
      "cell_type": "code",
      "source": [
        "#the parameters of the algorithm\n",
        "BatchLength= 128  #batches of 32 images are processed and averaged out\n",
        "Size=[28,28,1]  #size of the input image\n",
        "NumIteration=201 #we will run just a few itereations- you can run it longer at home\n",
        "LearningRate=1e-4 #initial learning rate\n",
        "NumClasses = 10 #number of possible output classes\n",
        "EvalFreq = 10 # we will evaluate at every 1000 step"
      ],
      "execution_count": 0,
      "outputs": []
    },
    {
      "metadata": {
        "id": "PP4jfTwMvVCQ",
        "colab_type": "code",
        "colab": {
          "autoexec": {
            "startup": false,
            "wait_interval": 0
          },
          "base_uri": "https://localhost:8080/",
          "height": 238
        },
        "outputId": "ed26d1f6-a407-4c93-9a3f-0c439e78ed28",
        "executionInfo": {
          "status": "ok",
          "timestamp": 1527848692389,
          "user_tz": -120,
          "elapsed": 659,
          "user": {
            "displayName": "András Horváth",
            "photoUrl": "https://lh3.googleusercontent.com/a/default-user=s128",
            "userId": "108531624545996717379"
          }
        }
      },
      "cell_type": "code",
      "source": [
        "tf.reset_default_graph() #reset the graph\n",
        "InputData = tf.placeholder(tf.float32, [None]+Size )  #input images\n",
        "OneHotLabels = tf.placeholder(tf.int32, [None, NumClasses]) #the expected outputs, labels\n",
        "print(InputData)\n",
        "NumKernels=[32,32,32] #a list that defines the number of layers and how many convolution kernels we have at each layer\n",
        "\n",
        "def AddBoundedLeakyRelu(x):\n",
        "    alpha=0.01\n",
        "    R=tf.maximum(-1 + alpha*(x+1),x)\n",
        "    R=tf.minimum(1 + alpha*(R-1),R)\n",
        "    return R\n",
        "\n",
        "def BaseLineNetwork(Input):\n",
        "  CurrentFilters=Size[2]\n",
        "  LayerNum=0\n",
        "  CurrentInput=Input\n",
        "  # a loop which creates all layers\n",
        "  for N in NumKernels:\n",
        "      with tf.variable_scope('baselineconv'+str(LayerNum)):\n",
        "        LayerNum+=1\n",
        "        #variables that we want to optimize\n",
        "        W =tf.get_variable('W', [3,3,CurrentFilters,N])\n",
        "        Bias = tf.get_variable('Bias', [N],initializer=tf.constant_initializer(0.0))\n",
        "        #convolution\n",
        "        ConvResult = tf.nn.conv2d(CurrentInput,W,strides=[1,1,1,1], padding='VALID')\n",
        "        CurrentFilters=N\n",
        "        #we adda bias\n",
        "        ConvResult = tf.add(ConvResult,Bias)\n",
        "        print(ConvResult)\n",
        "        # relu\n",
        "        ReLU=tf.nn.relu(ConvResult)\n",
        "        #pool\n",
        "        Pooled=tf.nn.max_pool(ReLU,ksize=[1,3,3,1],strides=[1,1,1,1],padding='VALID')\n",
        "        CurrentInput=Pooled\n",
        "        print(Pooled)\n",
        "  #we have generated feature maps, we will use a fully connected layer with ten neurons, one for each class\n",
        "  #the response of these neruons will represent how \"strongly\" the element belong to this class\n",
        "  with tf.variable_scope('BaselineFC'):\n",
        "        CurrentShape=CurrentInput.get_shape()\n",
        "        FeatureLength = int(CurrentShape[1]*CurrentShape[2]*CurrentShape[3])\n",
        "        FC = tf.reshape(CurrentInput, [-1, FeatureLength])\n",
        "        W = tf.get_variable('W',[FeatureLength,NumClasses])\n",
        "        FC = tf.matmul(FC, W)\n",
        "        Bias = tf.get_variable('Bias',[NumClasses])\n",
        "        FC = tf.add(FC, Bias)\n",
        "  return FC\n",
        "\n",
        "def BoundedNetwork(Input):\n",
        "  CurrentFilters=Size[2]\n",
        "  LayerNum=0\n",
        "  CurrentInput=Input\n",
        "  # a loop which creates all layers\n",
        "  for N in NumKernels:\n",
        "      with tf.variable_scope('boundedconv'+str(LayerNum)):\n",
        "        LayerNum+=1\n",
        "        #variables that we want to optimize\n",
        "        W =tf.get_variable('W', [3,3,CurrentFilters,N])\n",
        "        Bias = tf.get_variable('Bias', [N],initializer=tf.constant_initializer(0.0))\n",
        "        #convolution\n",
        "        ConvResult = tf.nn.conv2d(CurrentInput,W,strides=[1,1,1,1], padding='VALID')\n",
        "        CurrentFilters=N\n",
        "        #we adda bias\n",
        "        ConvResult = tf.add(ConvResult,Bias)\n",
        "        print(ConvResult)\n",
        "        # relu\n",
        "        #ReLU=tf.nn.relu(ConvResult)\n",
        "        ReLU=AddBoundedLeakyRelu(ConvResult)\n",
        "        #pool\n",
        "        Pooled=tf.nn.max_pool(ReLU,ksize=[1,3,3,1],strides=[1,1,1,1],padding='VALID')\n",
        "        CurrentInput=Pooled\n",
        "        print(Pooled)\n",
        "  #we have generated feature maps, we will use a fully connected layer with ten neurons, one for each class\n",
        "  #the response of these neruons will represent how \"strongly\" the element belong to this class\n",
        "  with tf.variable_scope('boundedFC'):\n",
        "        CurrentShape=CurrentInput.get_shape()\n",
        "        FeatureLength = int(CurrentShape[1]*CurrentShape[2]*CurrentShape[3])\n",
        "        FC = tf.reshape(CurrentInput, [-1, FeatureLength])\n",
        "        W = tf.get_variable('W',[FeatureLength,NumClasses])\n",
        "        FC = tf.matmul(FC, W)\n",
        "        Bias = tf.get_variable('Bias',[NumClasses])\n",
        "        FC = tf.add(FC, Bias)\n",
        "  return FC\n",
        "\n",
        "BoundedOut=BoundedNetwork(InputData)\n",
        "BaseLineOut=BaseLineNetwork(InputData)"
      ],
      "execution_count": 4,
      "outputs": [
        {
          "output_type": "stream",
          "text": [
            "Tensor(\"Placeholder:0\", shape=(?, 28, 28, 1), dtype=float32)\n",
            "Tensor(\"boundedconv0/Add:0\", shape=(?, 26, 26, 32), dtype=float32)\n",
            "Tensor(\"boundedconv0/MaxPool:0\", shape=(?, 24, 24, 32), dtype=float32)\n",
            "Tensor(\"boundedconv1/Add:0\", shape=(?, 22, 22, 32), dtype=float32)\n",
            "Tensor(\"boundedconv1/MaxPool:0\", shape=(?, 20, 20, 32), dtype=float32)\n",
            "Tensor(\"boundedconv2/Add:0\", shape=(?, 18, 18, 32), dtype=float32)\n",
            "Tensor(\"boundedconv2/MaxPool:0\", shape=(?, 16, 16, 32), dtype=float32)\n",
            "Tensor(\"baselineconv0/Add:0\", shape=(?, 26, 26, 32), dtype=float32)\n",
            "Tensor(\"baselineconv0/MaxPool:0\", shape=(?, 24, 24, 32), dtype=float32)\n",
            "Tensor(\"baselineconv1/Add:0\", shape=(?, 22, 22, 32), dtype=float32)\n",
            "Tensor(\"baselineconv1/MaxPool:0\", shape=(?, 20, 20, 32), dtype=float32)\n",
            "Tensor(\"baselineconv2/Add:0\", shape=(?, 18, 18, 32), dtype=float32)\n",
            "Tensor(\"baselineconv2/MaxPool:0\", shape=(?, 16, 16, 32), dtype=float32)\n"
          ],
          "name": "stdout"
        }
      ]
    },
    {
      "metadata": {
        "id": "6RZv_Wk7vW02",
        "colab_type": "code",
        "colab": {
          "autoexec": {
            "startup": false,
            "wait_interval": 0
          }
        }
      },
      "cell_type": "code",
      "source": [
        "\n",
        "#we use softmax to normalize the outputs of the network \n",
        "#sotfmax camoes from the logistic regression and is e^i / sum(e^j) for all j\n",
        "#this will normlaize all the values between zero and one and the sum of values will be 1\n",
        "\n",
        "#corss entropy measures similarity between two distributions. If cross entropy is zero, the two distributions are the same\n",
        "with tf.name_scope('loss'):\n",
        "\t    BaselineLoss = tf.reduce_mean( tf.nn.softmax_cross_entropy_with_logits_v2(labels=OneHotLabels,logits=BaseLineOut)  )\n",
        "\t    BoundedLoss = tf.reduce_mean( tf.nn.softmax_cross_entropy_with_logits_v2(labels=OneHotLabels,logits=BoundedOut)  )\n",
        "      \n",
        "with tf.name_scope('optimizer'):    \n",
        "\t    #Use ADAM optimizer this is currently the best performing training algorithm in most cases\n",
        "\t    BaselineOptimizer = tf.train.AdamOptimizer(LearningRate).minimize(BaselineLoss)\n",
        "\t    BoundedOptimizer = tf.train.AdamOptimizer(LearningRate).minimize(BoundedLoss)\n",
        "        #Optimizer = tf.train.GradientDescentOptimizer(LearningRate).minimize(Loss)\n",
        "\n",
        "with tf.name_scope('accuracy'):\t  \n",
        "\t    CorrectPredictions = tf.equal(tf.argmax(BaseLineOut, 1), tf.argmax(OneHotLabels, 1))\n",
        "\t    BaselineAccuracy = tf.reduce_mean(tf.cast(CorrectPredictions, tf.float32))\n",
        "\t    CorrectPredictions = tf.equal(tf.argmax(BoundedOut, 1), tf.argmax(OneHotLabels, 1))\n",
        "\t    BoundedAccuracy = tf.reduce_mean(tf.cast(CorrectPredictions, tf.float32))\n",
        "\t      "
      ],
      "execution_count": 0,
      "outputs": []
    },
    {
      "metadata": {
        "id": "UL1r5WVZvZLZ",
        "colab_type": "code",
        "colab": {
          "autoexec": {
            "startup": false,
            "wait_interval": 0
          },
          "base_uri": "https://localhost:8080/",
          "height": 1377
        },
        "outputId": "fc132854-c5ec-4489-e160-c0d3a83825dd",
        "executionInfo": {
          "status": "ok",
          "timestamp": 1527855423362,
          "user_tz": -120,
          "elapsed": 643867,
          "user": {
            "displayName": "András Horváth",
            "photoUrl": "https://lh3.googleusercontent.com/a/default-user=s128",
            "userId": "108531624545996717379"
          }
        }
      },
      "cell_type": "code",
      "source": [
        "Init = tf.global_variables_initializer()\n",
        "BaseTrain=[]\n",
        "BoundedTrain=[]\n",
        "BaseLoss=[]\n",
        "BoundedLloss=[]\n",
        "BaseTest=[]\n",
        "BoundedTest=[]\n",
        "with tf.Session() as Sess:\n",
        "\tSess.run(Init)\n",
        "\t\n",
        "\tStep = 1\n",
        "\t# Keep training until reach max iterations - other stopping criterion could be added\n",
        "\twhile Step < NumIteration:\n",
        "\t\tUsedInBatch= random.sample( range(mnist.train.images.shape[0]), BatchLength)\n",
        "\t\tbatch_xs = mnist.train.images[UsedInBatch,:]\n",
        "\t\tbatch_ys = mnist.train.labels[UsedInBatch,:]\n",
        "\t\tbatch_xs=np.reshape(batch_xs,[BatchLength]+Size)\n",
        "\t\t_,BaseAcc,BaseL = Sess.run([BaselineOptimizer, BaselineAccuracy, BaselineLoss], feed_dict={InputData: batch_xs, OneHotLabels: batch_ys})\n",
        "\t\t_,BoundedAcc,BoundedL = Sess.run([BoundedOptimizer, BoundedAccuracy,BoundedLoss], feed_dict={InputData: batch_xs, OneHotLabels: batch_ys})\n",
        "\t\t\n",
        "\t\tif (Step%10)==0:\n",
        "\t        \tprint(\"Iteration: \"+str(Step) + \" BaseAccuracy: \" + str(BaseAcc) + \" BaseLoss: \" + str(BaseL))\n",
        "\t        \tprint(\"Iteration: \"+str(Step) + \" BoundedAccuracy: \" + str(BoundedAcc) + \" BoundedLoss: \" + str(BoundedL))\n",
        "\t        \tBaseTrain.append(BaseAcc)\n",
        "\t        \tBoundedTrain.append(BoundedAcc)\n",
        "\t        \tBaseLoss.append(BaseL)\n",
        "\t        \tBoundedLloss.append(BoundedL)\n",
        "\t\t\n",
        "\t\t#independent test accuracy\n",
        "    \t\tif (Step%EvalFreq)==0:\n",
        "      \t\t\tSumAcc=0.0\n",
        "      \t\t\tfor i in range(0,mnist.test.images.shape[0]):\n",
        "        \t\t\tbatch_xs = mnist.test.images[i,:]\n",
        "        \t\t\tbatch_ys = mnist.test.labels[i,:]\n",
        "        \t\t\tbatch_xs=np.reshape(batch_xs,[1]+Size)\n",
        "        \t\t\tbatch_ys=np.reshape(batch_ys,[1,NumClasses])\n",
        "        \t\t\ta = Sess.run(BaselineAccuracy, feed_dict={InputData: batch_xs, OneHotLabels: batch_ys})\n",
        "        \t\t\tSumAcc+=a\n",
        "      \t\t\tprint(\"Independent Baseline Test set: \"+str(float(SumAcc)/mnist.test.images.shape[0]))\n",
        "       \t\t\tBaseTest.append( float(SumAcc)/mnist.test.images.shape[0])\n",
        "      \t\t\tSumAcc=0.0\n",
        "      \t\t\tfor i in range(0,mnist.test.images.shape[0]):\n",
        "        \t\t\tbatch_xs = mnist.test.images[i,:]\n",
        "        \t\t\tbatch_ys = mnist.test.labels[i,:]\n",
        "        \t\t\tbatch_xs=np.reshape(batch_xs,[1]+Size)\n",
        "        \t\t\tbatch_ys=np.reshape(batch_ys,[1,NumClasses])\n",
        "        \t\t\ta = Sess.run(BoundedAccuracy, feed_dict={InputData: batch_xs, OneHotLabels: batch_ys})\n",
        "        \t\t\tSumAcc+=a  \n",
        "      \t\t\tprint(\"Independent Bounded Test set: \"+str(float(SumAcc)/mnist.test.images.shape[0]))\n",
        "      \t\t\tBoundedTest.append(float(SumAcc)/mnist.test.images.shape[0])\n",
        "    \t\tStep+=1"
      ],
      "execution_count": 14,
      "outputs": [
        {
          "output_type": "stream",
          "text": [
            "Iteration: 10 BaseAccuracy: 0.15625 BaseLoss: 2.2756495\n",
            "Iteration: 10 BoundedAccuracy: 0.25 BoundedLoss: 2.1458378\n",
            "Independent Baseline Test set: 0.2242\n",
            "Independent Bounded Test set: 0.2783\n",
            "Iteration: 20 BaseAccuracy: 0.3984375 BaseLoss: 2.153679\n",
            "Iteration: 20 BoundedAccuracy: 0.5859375 BoundedLoss: 1.9276619\n",
            "Independent Baseline Test set: 0.3398\n",
            "Independent Bounded Test set: 0.6014\n",
            "Iteration: 30 BaseAccuracy: 0.53125 BaseLoss: 1.9819992\n",
            "Iteration: 30 BoundedAccuracy: 0.75 BoundedLoss: 1.6349492\n",
            "Independent Baseline Test set: 0.4634\n",
            "Independent Bounded Test set: 0.6821\n",
            "Iteration: 40 BaseAccuracy: 0.6171875 BaseLoss: 1.8625968\n",
            "Iteration: 40 BoundedAccuracy: 0.65625 BoundedLoss: 1.4174333\n",
            "Independent Baseline Test set: 0.6622\n",
            "Independent Bounded Test set: 0.7049\n",
            "Iteration: 50 BaseAccuracy: 0.78125 BaseLoss: 1.5320884\n",
            "Iteration: 50 BoundedAccuracy: 0.8203125 BoundedLoss: 0.99559915\n",
            "Independent Baseline Test set: 0.8001\n",
            "Independent Bounded Test set: 0.8037\n",
            "Iteration: 60 BaseAccuracy: 0.7734375 BaseLoss: 1.2691505\n",
            "Iteration: 60 BoundedAccuracy: 0.7421875 BoundedLoss: 0.8901842\n",
            "Independent Baseline Test set: 0.8332\n",
            "Independent Bounded Test set: 0.8135\n",
            "Iteration: 70 BaseAccuracy: 0.8515625 BaseLoss: 0.92715293\n",
            "Iteration: 70 BoundedAccuracy: 0.859375 BoundedLoss: 0.63964015\n",
            "Independent Baseline Test set: 0.8629\n",
            "Independent Bounded Test set: 0.8314\n",
            "Iteration: 80 BaseAccuracy: 0.8125 BaseLoss: 0.7917027\n",
            "Iteration: 80 BoundedAccuracy: 0.796875 BoundedLoss: 0.6792052\n",
            "Independent Baseline Test set: 0.8568\n",
            "Independent Bounded Test set: 0.8404\n",
            "Iteration: 90 BaseAccuracy: 0.8515625 BaseLoss: 0.60885835\n",
            "Iteration: 90 BoundedAccuracy: 0.828125 BoundedLoss: 0.59131694\n",
            "Independent Baseline Test set: 0.8698\n",
            "Independent Bounded Test set: 0.8375\n",
            "Iteration: 100 BaseAccuracy: 0.8359375 BaseLoss: 0.46420974\n",
            "Iteration: 100 BoundedAccuracy: 0.859375 BoundedLoss: 0.49325448\n",
            "Independent Baseline Test set: 0.8931\n",
            "Independent Bounded Test set: 0.8599\n",
            "Iteration: 110 BaseAccuracy: 0.921875 BaseLoss: 0.39298326\n",
            "Iteration: 110 BoundedAccuracy: 0.8515625 BoundedLoss: 0.483189\n",
            "Independent Baseline Test set: 0.894\n",
            "Independent Bounded Test set: 0.8642\n",
            "Iteration: 120 BaseAccuracy: 0.875 BaseLoss: 0.38669503\n",
            "Iteration: 120 BoundedAccuracy: 0.875 BoundedLoss: 0.44810608\n",
            "Independent Baseline Test set: 0.9101\n",
            "Independent Bounded Test set: 0.8812\n",
            "Iteration: 130 BaseAccuracy: 0.890625 BaseLoss: 0.39337802\n",
            "Iteration: 130 BoundedAccuracy: 0.84375 BoundedLoss: 0.5199998\n",
            "Independent Baseline Test set: 0.9175\n",
            "Independent Bounded Test set: 0.8844\n",
            "Iteration: 140 BaseAccuracy: 0.96875 BaseLoss: 0.21106912\n",
            "Iteration: 140 BoundedAccuracy: 0.9375 BoundedLoss: 0.30028024\n",
            "Independent Baseline Test set: 0.9213\n",
            "Independent Bounded Test set: 0.8866\n",
            "Iteration: 150 BaseAccuracy: 0.8828125 BaseLoss: 0.33655056\n",
            "Iteration: 150 BoundedAccuracy: 0.8671875 BoundedLoss: 0.46716344\n",
            "Independent Baseline Test set: 0.9172\n",
            "Independent Bounded Test set: 0.8894\n",
            "Iteration: 160 BaseAccuracy: 0.90625 BaseLoss: 0.26880872\n",
            "Iteration: 160 BoundedAccuracy: 0.8828125 BoundedLoss: 0.38569522\n",
            "Independent Baseline Test set: 0.9276\n",
            "Independent Bounded Test set: 0.8909\n",
            "Iteration: 170 BaseAccuracy: 0.9296875 BaseLoss: 0.2620929\n",
            "Iteration: 170 BoundedAccuracy: 0.90625 BoundedLoss: 0.35088348\n",
            "Independent Baseline Test set: 0.9333\n",
            "Independent Bounded Test set: 0.8991\n",
            "Iteration: 180 BaseAccuracy: 0.953125 BaseLoss: 0.21480024\n",
            "Iteration: 180 BoundedAccuracy: 0.9375 BoundedLoss: 0.28974512\n",
            "Independent Baseline Test set: 0.9285\n",
            "Independent Bounded Test set: 0.8977\n"
          ],
          "name": "stdout"
        },
        {
          "output_type": "stream",
          "text": [
            "Iteration: 190 BaseAccuracy: 0.890625 BaseLoss: 0.3827871\n",
            "Iteration: 190 BoundedAccuracy: 0.875 BoundedLoss: 0.46064118\n",
            "Independent Baseline Test set: 0.9307\n",
            "Independent Bounded Test set: 0.9017\n",
            "Iteration: 200 BaseAccuracy: 0.9296875 BaseLoss: 0.19280851\n",
            "Iteration: 200 BoundedAccuracy: 0.9140625 BoundedLoss: 0.25561824\n",
            "Independent Baseline Test set: 0.9331\n",
            "Independent Bounded Test set: 0.903\n"
          ],
          "name": "stdout"
        }
      ]
    },
    {
      "metadata": {
        "id": "i0LpuHVavtRV",
        "colab_type": "code",
        "colab": {
          "autoexec": {
            "startup": false,
            "wait_interval": 0
          },
          "base_uri": "https://localhost:8080/",
          "height": 381
        },
        "outputId": "8cb5ed2b-7dd1-49df-f4bc-dbeb2af16ab7",
        "executionInfo": {
          "status": "ok",
          "timestamp": 1527855655115,
          "user_tz": -120,
          "elapsed": 602,
          "user": {
            "displayName": "András Horváth",
            "photoUrl": "https://lh3.googleusercontent.com/a/default-user=s128",
            "userId": "108531624545996717379"
          }
        }
      },
      "cell_type": "code",
      "source": [
        "import matplotlib.pyplot as plt\n",
        "Length=range(len(BaseTrain))\n",
        "plt.plot(Length,BaseTrain,'b',Length,BoundedTrain,'r')"
      ],
      "execution_count": 23,
      "outputs": [
        {
          "output_type": "execute_result",
          "data": {
            "text/plain": [
              "[<matplotlib.lines.Line2D at 0x7fe652e100d0>,\n",
              " <matplotlib.lines.Line2D at 0x7fe652e10190>]"
            ]
          },
          "metadata": {
            "tags": []
          },
          "execution_count": 23
        },
        {
          "output_type": "display_data",
          "data": {
            "image/png": "[encoded data removed]",
            "text/plain": [
              "<matplotlib.figure.Figure at 0x7fe652eb5750>"
            ]
          },
          "metadata": {
            "tags": []
          }
        }
      ]
    },
    {
      "metadata": {
        "id": "6COSnnp6Zabc",
        "colab_type": "code",
        "colab": {
          "autoexec": {
            "startup": false,
            "wait_interval": 0
          },
          "base_uri": "https://localhost:8080/",
          "height": 381
        },
        "outputId": "ad521c3b-4e9b-4f6d-af7a-fe683b47ae13",
        "executionInfo": {
          "status": "ok",
          "timestamp": 1527855651549,
          "user_tz": -120,
          "elapsed": 864,
          "user": {
            "displayName": "András Horváth",
            "photoUrl": "https://lh3.googleusercontent.com/a/default-user=s128",
            "userId": "108531624545996717379"
          }
        }
      },
      "cell_type": "code",
      "source": [
        "Length=range(len(BaseTest))\n",
        "plt.plot(Length,BaseTest,'b',Length,BoundedTest,'r')"
      ],
      "execution_count": 22,
      "outputs": [
        {
          "output_type": "execute_result",
          "data": {
            "text/plain": [
              "[<matplotlib.lines.Line2D at 0x7fe652f043d0>,\n",
              " <matplotlib.lines.Line2D at 0x7fe652f04490>]"
            ]
          },
          "metadata": {
            "tags": []
          },
          "execution_count": 22
        },
        {
          "output_type": "display_data",
          "data": {
            "image/png": "[encoded data removed]",
            "text/plain": [
              "<matplotlib.figure.Figure at 0x7fe652f351d0>"
            ]
          },
          "metadata": {
            "tags": []
          }
        }
      ]
    },
    {
      "metadata": {
        "id": "bR3txsDzZmIc",
        "colab_type": "code",
        "colab": {
          "autoexec": {
            "startup": false,
            "wait_interval": 0
          },
          "base_uri": "https://localhost:8080/",
          "height": 381
        },
        "outputId": "0e7a98e8-3fd9-4e41-e998-ca44126589a7",
        "executionInfo": {
          "status": "ok",
          "timestamp": 1527855710023,
          "user_tz": -120,
          "elapsed": 686,
          "user": {
            "displayName": "András Horváth",
            "photoUrl": "https://lh3.googleusercontent.com/a/default-user=s128",
            "userId": "108531624545996717379"
          }
        }
      },
      "cell_type": "code",
      "source": [
        "Length=range(len(BaseLoss))\n",
        "plt.plot(Length,BaseLoss,'b',Length,BoundedLloss,'r')"
      ],
      "execution_count": 28,
      "outputs": [
        {
          "output_type": "execute_result",
          "data": {
            "text/plain": [
              "[<matplotlib.lines.Line2D at 0x7fe652b257d0>,\n",
              " <matplotlib.lines.Line2D at 0x7fe652b25890>]"
            ]
          },
          "metadata": {
            "tags": []
          },
          "execution_count": 28
        },
        {
          "output_type": "display_data",
          "data": {
            "image/png": "[encoded data removed]",
            "text/plain": [
              "<matplotlib.figure.Figure at 0x7fe652afc5d0>"
            ]
          },
          "metadata": {
            "tags": []
          }
        }
      ]
    },
    {
      "metadata": {
        "id": "ZyVoeU500gyg",
        "colab_type": "code",
        "colab": {
          "autoexec": {
            "startup": false,
            "wait_interval": 0
          }
        }
      },
      "cell_type": "code",
      "source": [
        ""
      ],
      "execution_count": 0,
      "outputs": []
    }
  ]
}